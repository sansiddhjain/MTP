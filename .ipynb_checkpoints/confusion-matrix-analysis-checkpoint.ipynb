{
 "cells": [
  {
   "cell_type": "code",
   "execution_count": 3,
   "metadata": {},
   "outputs": [],
   "source": [
    "import os\n",
    "import pandas as pd\n",
    "import numpy as np\n",
    "from sklearn.metrics import confusion_matrix"
   ]
  },
  {
   "cell_type": "code",
   "execution_count": 4,
   "metadata": {},
   "outputs": [
    {
     "name": "stdout",
     "output_type": "stream",
     "text": [
      "\u001b[30m\u001b[43mBF_ADV\u001b[m\u001b[m/                          \u001b[30m\u001b[43mFC_RUD\u001b[m\u001b[m/\r\n",
      "\u001b[30m\u001b[43mBF_INT\u001b[m\u001b[m/                          \u001b[30m\u001b[43mMSL_INT\u001b[m\u001b[m/\r\n",
      "\u001b[30m\u001b[43mBF_RUD\u001b[m\u001b[m/                          \u001b[30m\u001b[43mMSL_RUD\u001b[m\u001b[m/\r\n",
      "\u001b[30m\u001b[43mCHH_ADV\u001b[m\u001b[m/                         \u001b[30m\u001b[43mMSW_ADV\u001b[m\u001b[m/\r\n",
      "\u001b[30m\u001b[43mCHH_INT\u001b[m\u001b[m/                         \u001b[30m\u001b[43mMSW_INT\u001b[m\u001b[m/\r\n",
      "\u001b[30m\u001b[43mCHH_RUD\u001b[m\u001b[m/                         \u001b[30m\u001b[43mMSW_RUD\u001b[m\u001b[m/\r\n",
      "\u001b[30m\u001b[43mEMP_ADV\u001b[m\u001b[m/                         \u001b[31mUntitled.ipynb\u001b[m\u001b[m*\r\n",
      "\u001b[30m\u001b[43mEMP_AL\u001b[m\u001b[m/                          \u001b[31mclustering.py\u001b[m\u001b[m*\r\n",
      "\u001b[30m\u001b[43mEMP_NAL\u001b[m\u001b[m/                         \u001b[30m\u001b[43mdata\u001b[m\u001b[m/\r\n",
      "\u001b[30m\u001b[43mEMP_UN\u001b[m\u001b[m/                          \u001b[31mrun.sh\u001b[m\u001b[m*\r\n",
      "\u001b[30m\u001b[43mFC_ADV\u001b[m\u001b[m/                          \u001b[31mtsne-kmeans-bins10-p30-ee12.png\u001b[m\u001b[m*\r\n",
      "\u001b[30m\u001b[43mFC_INT\u001b[m\u001b[m/\r\n"
     ]
    }
   ],
   "source": [
    "ls"
   ]
  },
  {
   "cell_type": "code",
   "execution_count": 53,
   "metadata": {},
   "outputs": [
    {
     "name": "stderr",
     "output_type": "stream",
     "text": [
      "ERROR:root:Internal Python error in the inspect module.\n",
      "Below is the traceback from this internal error.\n",
      "\n"
     ]
    },
    {
     "name": "stdout",
     "output_type": "stream",
     "text": [
      "Traceback (most recent call last):\n",
      "  File \"/usr/local/lib/python3.7/site-packages/IPython/core/interactiveshell.py\", line 2961, in run_code\n",
      "    exec(code_obj, self.user_global_ns, self.user_ns)\n",
      "  File \"<ipython-input-53-e6e6dfad9d18>\", line 8, in <module>\n",
      "    d3f2 = pd.read_csv(\"cdf-clustering/\"+attribute2+\"/\"+method+\"/labels.csv\")\n",
      "  File \"/usr/local/lib/python3.7/site-packages/pandas/io/parsers.py\", line 678, in parser_f\n",
      "    return _read(filepath_or_buffer, kwds)\n",
      "  File \"/usr/local/lib/python3.7/site-packages/pandas/io/parsers.py\", line 440, in _read\n",
      "    parser = TextFileReader(filepath_or_buffer, **kwds)\n",
      "  File \"/usr/local/lib/python3.7/site-packages/pandas/io/parsers.py\", line 787, in __init__\n",
      "    self._make_engine(self.engine)\n",
      "  File \"/usr/local/lib/python3.7/site-packages/pandas/io/parsers.py\", line 1014, in _make_engine\n",
      "    self._engine = CParserWrapper(self.f, **self.options)\n",
      "  File \"/usr/local/lib/python3.7/site-packages/pandas/io/parsers.py\", line 1708, in __init__\n",
      "    self._reader = parsers.TextReader(src, **kwds)\n",
      "  File \"pandas/_libs/parsers.pyx\", line 384, in pandas._libs.parsers.TextReader.__cinit__\n",
      "  File \"pandas/_libs/parsers.pyx\", line 695, in pandas._libs.parsers.TextReader._setup_parser_source\n",
      "FileNotFoundError: File b'cdf-clustering/CHH_ADV/KMeans/labels.csv' does not exist\n",
      "\n",
      "During handling of the above exception, another exception occurred:\n",
      "\n",
      "Traceback (most recent call last):\n",
      "  File \"/usr/local/lib/python3.7/site-packages/IPython/core/interactiveshell.py\", line 1863, in showtraceback\n",
      "    stb = value._render_traceback_()\n",
      "AttributeError: 'FileNotFoundError' object has no attribute '_render_traceback_'\n",
      "\n",
      "During handling of the above exception, another exception occurred:\n",
      "\n",
      "Traceback (most recent call last):\n",
      "  File \"/usr/local/lib/python3.7/site-packages/IPython/core/ultratb.py\", line 1095, in get_records\n",
      "    return _fixed_getinnerframes(etb, number_of_lines_of_context, tb_offset)\n",
      "  File \"/usr/local/lib/python3.7/site-packages/IPython/core/ultratb.py\", line 311, in wrapped\n",
      "    return f(*args, **kwargs)\n",
      "  File \"/usr/local/lib/python3.7/site-packages/IPython/core/ultratb.py\", line 345, in _fixed_getinnerframes\n",
      "    records = fix_frame_records_filenames(inspect.getinnerframes(etb, context))\n",
      "  File \"/usr/local/Cellar/python/3.7.0/Frameworks/Python.framework/Versions/3.7/lib/python3.7/inspect.py\", line 1495, in getinnerframes\n",
      "    frameinfo = (tb.tb_frame,) + getframeinfo(tb, context)\n",
      "  File \"/usr/local/Cellar/python/3.7.0/Frameworks/Python.framework/Versions/3.7/lib/python3.7/inspect.py\", line 1453, in getframeinfo\n",
      "    filename = getsourcefile(frame) or getfile(frame)\n",
      "  File \"/usr/local/Cellar/python/3.7.0/Frameworks/Python.framework/Versions/3.7/lib/python3.7/inspect.py\", line 696, in getsourcefile\n",
      "    if getattr(getmodule(object, filename), '__loader__', None) is not None:\n",
      "  File \"/usr/local/Cellar/python/3.7.0/Frameworks/Python.framework/Versions/3.7/lib/python3.7/inspect.py\", line 725, in getmodule\n",
      "    file = getabsfile(object, _filename)\n",
      "  File \"/usr/local/Cellar/python/3.7.0/Frameworks/Python.framework/Versions/3.7/lib/python3.7/inspect.py\", line 709, in getabsfile\n",
      "    return os.path.normcase(os.path.abspath(_filename))\n",
      "  File \"/usr/local/Cellar/python/3.7.0/Frameworks/Python.framework/Versions/3.7/lib/python3.7/posixpath.py\", line 376, in abspath\n",
      "    cwd = os.getcwd()\n",
      "FileNotFoundError: [Errno 2] No such file or directory\n"
     ]
    },
    {
     "ename": "FileNotFoundError",
     "evalue": "File b'cdf-clustering/CHH_ADV/KMeans/labels.csv' does not exist",
     "output_type": "error",
     "traceback": [
      "\u001b[0;31m---------------------------------------------------------------------------\u001b[0m"
     ]
    }
   ],
   "source": [
    "attribute1 = \"BF_ADV\"\n",
    "attribute2 = \"CHH_ADV\"\n",
    "\n",
    "method_dict = {0 : \"KMeans\", 1 : \"Agglo\"}\n",
    "\n",
    "method = method_dict[0]\n",
    "\n",
    "d3f2 = pd.read_csv(\"cdf-clustering/\"+attribute2+\"/\"+method+\"/labels.csv\")\n",
    "\n",
    "# df1 = pd.read_csv(\"pdf-clustering/\"+attribute1+\"/\"+method+\"/labels.csv\")\n",
    "# df2 = pd.read_csv(\"pdf-clustering/\"+attribute2+\"/\"+method+\"/labels.csv\")\n",
    "\n",
    "del df1['Unnamed: 0']\n",
    "del df2['Unnamed: 0']\n",
    "\n",
    "df1.columns = [\"District\", attribute1]\n",
    "df2.columns = [\"District\", attribute2]\n",
    "\n",
    "df = df1.merge(df2, how='inner', on='District')\n",
    "\n",
    "mat = confusion_matrix(df[attribute1], df[attribute2])\n",
    "np.sum(mat)\n",
    "mat\n",
    "\n",
    "mat = np.vstack((mat, np.sum(mat, axis = 0)))\n",
    "mat = np.hstack((mat, np.sum(mat, axis = 1).reshape(len(np.sum(mat, axis = 1)), 1)))\n",
    "print(mat)\n",
    "# np.savetxt(\"confusion-matrix/\"+method+\"/\"+attribute1+\"_\"+attribute2+\".csv\", mat, delimiter=\", \", fmt=\"%d\")"
   ]
  },
  {
   "cell_type": "code",
   "execution_count": null,
   "metadata": {},
   "outputs": [],
   "source": []
  },
  {
   "cell_type": "code",
   "execution_count": null,
   "metadata": {},
   "outputs": [],
   "source": []
  }
 ],
 "metadata": {
  "kernelspec": {
   "display_name": "Python 3",
   "language": "python",
   "name": "python3"
  },
  "language_info": {
   "codemirror_mode": {
    "name": "ipython",
    "version": 3
   },
   "file_extension": ".py",
   "mimetype": "text/x-python",
   "name": "python",
   "nbconvert_exporter": "python",
   "pygments_lexer": "ipython3",
   "version": "3.7.0"
  }
 },
 "nbformat": 4,
 "nbformat_minor": 2
}
