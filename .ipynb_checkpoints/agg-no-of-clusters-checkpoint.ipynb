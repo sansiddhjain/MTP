{
 "cells": [
  {
   "cell_type": "code",
   "execution_count": 1,
   "metadata": {},
   "outputs": [],
   "source": [
    "import pandas as pd\n",
    "import numpy as np"
   ]
  },
  {
   "cell_type": "code",
   "execution_count": 25,
   "metadata": {},
   "outputs": [],
   "source": [
    "df = pd.read_csv(\"n_clusters-kmeans-gap-method-\"+str(1)+\".csv\")\n",
    "del df[\"Unnamed: 0\"]\n",
    "mat = np.asarray(df)\n",
    "for i in range(1, 8):\n",
    "    df = pd.read_csv(\"n_clusters-kmeans-gap-method-\"+str(i)+\".csv\")\n",
    "    del df[\"Unnamed: 0\"]\n",
    "    mat1 = np.asarray(df)\n",
    "    mat[:, 1] = mat[:, 1] + mat1[:, 1]"
   ]
  },
  {
   "cell_type": "code",
   "execution_count": 26,
   "metadata": {},
   "outputs": [
    {
     "data": {
      "text/plain": [
       "array([9.0, 8.714285714285714, 7.428571428571429, 8.857142857142858,\n",
       "       6.857142857142857, 10.285714285714286, 7.0, 6.0, 7.428571428571429,\n",
       "       8.142857142857142, 9.0, 7.857142857142857], dtype=object)"
      ]
     },
     "execution_count": 26,
     "metadata": {},
     "output_type": "execute_result"
    }
   ],
   "source": [
    "mat[:, 1] = mat[:, 1]/7"
   ]
  },
  {
   "cell_type": "code",
   "execution_count": 37,
   "metadata": {},
   "outputs": [],
   "source": [
    "z = np.array(mat[:, 1], dtype=np.float32)\n",
    "z = np.floor(z)\n",
    "mat[:, 1] = z"
   ]
  },
  {
   "cell_type": "code",
   "execution_count": 42,
   "metadata": {},
   "outputs": [],
   "source": [
    "df = pd.DataFrame(data=mat, columns=['attribute', 'no_of_clusters'])\n",
    "df.to_csv(\"n_clusters-kmeans-gap-method-agg.csv\")"
   ]
  },
  {
   "cell_type": "code",
   "execution_count": null,
   "metadata": {},
   "outputs": [],
   "source": []
  }
 ],
 "metadata": {
  "kernelspec": {
   "display_name": "Python 3",
   "language": "python",
   "name": "python3"
  },
  "language_info": {
   "codemirror_mode": {
    "name": "ipython",
    "version": 3
   },
   "file_extension": ".py",
   "mimetype": "text/x-python",
   "name": "python",
   "nbconvert_exporter": "python",
   "pygments_lexer": "ipython3",
   "version": "3.7.1"
  }
 },
 "nbformat": 4,
 "nbformat_minor": 2
}
