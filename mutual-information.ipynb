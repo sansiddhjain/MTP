{
 "cells": [
  {
   "cell_type": "code",
   "execution_count": 1,
   "metadata": {},
   "outputs": [],
   "source": [
    "import pandas as pd\n",
    "import numpy as np\n",
    "import scipy as sp"
   ]
  },
  {
   "cell_type": "code",
   "execution_count": 2,
   "metadata": {},
   "outputs": [],
   "source": [
    "def mutual_information(XYmat):\n",
    "    p_y = np.sum(XYmat, axis=0)\n",
    "    p_x = np.sum(XYmat, axis=1)\n",
    "\n",
    "    mi = 0\n",
    "    for i in range(XYmat.shape[0]):\n",
    "        for j in range(XYmat.shape[1]):\n",
    "            mi += XYmat[i][j]*np.log(XYmat[i][j]/(p_x[i]*p_y[j]))\n",
    "    return mi"
   ]
  },
  {
   "cell_type": "code",
   "execution_count": 3,
   "metadata": {},
   "outputs": [],
   "source": [
    "def calculate_for_all(var_type):\n",
    "    raw = np.genfromtxt('mi/'+var_type+'.txt', delimiter='\\t')\n",
    "    for i in range(raw.shape[0]):\n",
    "        for j in range(raw.shape[1]):\n",
    "            if raw[i][j] == 0:\n",
    "                raw[i][j] = 1e-8\n",
    "\n",
    "    return [mutual_information(raw[0:3, :]), mutual_information(raw[3:6, :]), mutual_information(raw[6:9, :]), mutual_information(raw[9:11, :]), mutual_information(raw[11:13, :])]"
   ]
  },
  {
   "cell_type": "code",
   "execution_count": 4,
   "metadata": {},
   "outputs": [],
   "source": [
    "index = ['literacy', 'formal emp', 'current status', 'MSL investment', 'MSW investment']\n",
    "columns = ['asset', 'bf', 'fc', 'chh']\n",
    "data = []\n",
    "for attr in columns:\n",
    "    data.append(calculate_for_all(attr))\n",
    "    \n",
    "data = np.asarray(data)\n",
    "data = data.T\n",
    "df = pd.DataFrame(index=index, columns=columns, data=data)"
   ]
  },
  {
   "cell_type": "code",
   "execution_count": 6,
   "metadata": {},
   "outputs": [],
   "source": [
    "df.to_csv('mi/mutual-information.csv')"
   ]
  },
  {
   "cell_type": "code",
   "execution_count": 10,
   "metadata": {},
   "outputs": [],
   "source": [
    "df = pd.read_csv('mi/mutual-information.csv')\n",
    "# df.columns = ['index', 'asset', 'bf', 'fc', 'chh']\n",
    "# df.reset_index('Unnamed: 0', inplace=True)\n",
    "mat = np.asarray(df)"
   ]
  },
  {
   "cell_type": "code",
   "execution_count": 7,
   "metadata": {},
   "outputs": [],
   "source": [
    "df.T.to_csv('mi-for-website.csv')"
   ]
  },
  {
   "cell_type": "code",
   "execution_count": 14,
   "metadata": {},
   "outputs": [
    {
     "data": {
      "image/png": "[encoded data removed]",
      "text/plain": [
       "<Figure size 432x288 with 1 Axes>"
      ]
     },
     "metadata": {
      "needs_background": "light"
     },
     "output_type": "display_data"
    }
   ],
   "source": [
    "import numpy as np\n",
    "import matplotlib.pyplot as plt\n",
    " \n",
    "# data to plot\n",
    "n_groups = 4\n",
    "means_frank = (90, 55, 40, 65)\n",
    "means_guido = (85, 62, 54, 20)\n",
    " \n",
    "# create plot\n",
    "fig, ax = plt.subplots()\n",
    "index = np.arange(n_groups)\n",
    "bar_width = 0.17\n",
    "opacity = 0.8\n",
    " \n",
    "rects1 = plt.bar(index, df.iloc[0, 1:], bar_width,\n",
    "alpha=opacity,\n",
    "color='b',\n",
    "label=df.iloc[0, 0])\n",
    " \n",
    "rects2 = plt.bar(index + bar_width, df.iloc[1, 1:], bar_width,\n",
    "alpha=opacity,\n",
    "color='g',\n",
    "label=df.iloc[1, 0])\n",
    "\n",
    "rects3 = plt.bar(index + 2*bar_width, df.iloc[2, 1:], bar_width,\n",
    "alpha=opacity,\n",
    "color='r',\n",
    "label=df.iloc[2, 0])\n",
    "\n",
    "rects4 = plt.bar(index + 3*bar_width, df.iloc[3, 1:], bar_width,\n",
    "alpha=opacity,\n",
    "color='y',\n",
    "label=df.iloc[3, 0])\n",
    "\n",
    "rects5 = plt.bar(index + 4*bar_width, df.iloc[4, 1:], bar_width,\n",
    "alpha=opacity,\n",
    "color='m',\n",
    "label=df.iloc[4, 0])\n",
    " \n",
    "plt.xlabel('Discretionary Variable')\n",
    "plt.ylabel('Mutual Information')\n",
    "plt.title('MI for Each Discretionary Variable')\n",
    "plt.xticks(index + bar_width, ('asset', 'bf', 'fc', 'chh'))\n",
    "plt.legend()\n",
    " \n",
    "plt.tight_layout()\n",
    "plt.show()"
   ]
  },
  {
   "cell_type": "code",
   "execution_count": 2,
   "metadata": {},
   "outputs": [],
   "source": []
  },
  {
   "cell_type": "code",
   "execution_count": 11,
   "metadata": {},
   "outputs": [],
   "source": [
    "import os\n",
    "if not os.path.exists('mi/tables/'):\n",
    "    os.makedirs('mi/tables/')\n",
    "for attr in ['asset', 'bf', 'fc', 'chh']:\n",
    "    raw = np.genfromtxt('mi/'+attr+'.txt', delimiter='\\t')\n",
    "    np.savetxt('mi/tables/'+attr+'-lit'+'.csv', raw[0:3, :],  fmt='%.3f', delimiter=', ',)\n",
    "    np.savetxt('mi/tables/'+attr+'-form-emp'+'.csv', raw[3:6, :],  fmt='%.3f', delimiter=', ',)\n",
    "    np.savetxt('mi/tables/'+attr+'-curr'+'.csv', raw[6:9, :],  fmt='%.3f', delimiter=', ',)\n",
    "    np.savetxt('mi/tables/'+attr+'-msl'+'.csv', raw[9:11, :],  fmt='%.3f', delimiter=', ',)\n",
    "    np.savetxt('mi/tables/'+attr+'-msw'+'.csv', raw[11:13, :],  fmt='%.3f', delimiter=', ',)"
   ]
  },
  {
   "cell_type": "code",
   "execution_count": 9,
   "metadata": {},
   "outputs": [
    {
     "data": {
      "text/plain": [
       "1.0000000000000009"
      ]
     },
     "execution_count": 9,
     "metadata": {},
     "output_type": "execute_result"
    }
   ],
   "source": []
  },
  {
   "cell_type": "code",
   "execution_count": null,
   "metadata": {},
   "outputs": [],
   "source": []
  }
 ],
 "metadata": {
  "kernelspec": {
   "display_name": "Python 3",
   "language": "python",
   "name": "python3"
  },
  "language_info": {
   "codemirror_mode": {
    "name": "ipython",
    "version": 3
   },
   "file_extension": ".py",
   "mimetype": "text/x-python",
   "name": "python",
   "nbconvert_exporter": "python",
   "pygments_lexer": "ipython3",
   "version": "3.7.2"
  }
 },
 "nbformat": 4,
 "nbformat_minor": 2
}
